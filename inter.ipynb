{
 "cells": [
  {
   "cell_type": "markdown",
   "metadata": {},
   "source": [
    "## Lagrange interpolation"
   ]
  },
  {
   "cell_type": "code",
   "execution_count": 1,
   "metadata": {},
   "outputs": [
    {
     "name": "stdout",
     "output_type": "stream",
     "text": [
      "ans\n",
      " -d**2 + 7*d + 6 \n",
      " 18.0\n",
      "The cost of computation is  0:00:00.420151\n"
     ]
    }
   ],
   "source": [
    "from datetime import datetime as dt\n",
    "import numpy as np\n",
    "import sympy as smp\n",
    "from sympy import symbols,simplify\n",
    "x=np.array([1,2,3])\n",
    "y=np.array([12,16,18])\n",
    "d=symbols('d')\n",
    "p=0\n",
    "itime=dt.now()\n",
    "for i in range(len(x)):\n",
    "    z=1\n",
    "    for j in range(len(y)):\n",
    "        if i!=j:\n",
    "            z=z*(d-x[j])/(x[i]-x[j])\n",
    "    p=p+z*y[i]\n",
    "m=smp.lambdify(d,p)\n",
    "print('ans\\n',simplify(p),'\\n',m(3))\n",
    "ftime=dt.now()\n",
    "print(\"The cost of computation is \",ftime-itime)\n"
   ]
  },
  {
   "cell_type": "markdown",
   "metadata": {},
   "source": [
    "# 2nd way "
   ]
  },
  {
   "cell_type": "code",
   "execution_count": 2,
   "metadata": {},
   "outputs": [
    {
     "name": "stdout",
     "output_type": "stream",
     "text": [
      "-d**4/12 + 7*d**3/6 - 71*d**2/12 + 89*d/6 - 10 \n",
      " 6.0\n",
      "The cost of computation is  0:00:00.081049\n"
     ]
    }
   ],
   "source": [
    "\n",
    "x=np.array([1,2,3,4,5])\n",
    "y=np.array([2,4,6,8,10])\n",
    "d=symbols('d')\n",
    "b=0\n",
    "i=1\n",
    "itime=dt.now()\n",
    "while i<len(x):\n",
    "    z=1\n",
    "    for j in range(len(x)):\n",
    "        if i != j:\n",
    "            z=z*(d-x[j])/(x[i]-x[j])\n",
    "    b+=y[i]*z\n",
    "    i+=1\n",
    "    n=smp.lambdify(d,b)\n",
    "print(simplify(b),\"\\n\",n(3))\n",
    "ftime=dt.now()\n",
    "print(\"The cost of computation is \",ftime-itime)"
   ]
  },
  {
   "cell_type": "markdown",
   "metadata": {},
   "source": [
    "## NEWTON DIVIDED DIFFERENCE INTERPOLATION"
   ]
  },
  {
   "cell_type": "code",
   "execution_count": 3,
   "metadata": {},
   "outputs": [
    {
     "name": "stdout",
     "output_type": "stream",
     "text": [
      "The table with col1 as x and col2 and function \n",
      " [[  1.           8.          60.         -10.83333333]\n",
      " [  2.          68.          27.5          0.        ]\n",
      " [  4.         123.           0.           0.        ]] \n",
      "\n",
      "The required polynomial is\n",
      " -10.8333333333333*p**2 + 92.5*p - 73.6666666666667 \n",
      "\n",
      "The value of polynomial at 3.5 is \n",
      " 117.37500000000011\n",
      "The cost of computation is  0:00:00.028687\n"
     ]
    }
   ],
   "source": [
    "import numpy as np\n",
    "import sympy as smp\n",
    "from sympy import symbols\n",
    "\n",
    "x= np.array([1,2,4])\n",
    "y=np.array([8,68,123])\n",
    "z=3.5\n",
    "itime=dt.now()\n",
    "rslt= np.zeros([len(x),len(x)+1])\n",
    "for k in range(len(x)):\n",
    "    rslt[k][0]=rslt[k][0]+x[k]\n",
    "    rslt[k][1]=rslt[k][1]+y[k]\n",
    "j=2\n",
    "a=len(x)-1\n",
    "p=symbols('p')\n",
    "while j<len(x)+1:\n",
    "    i=0\n",
    "    k=j-1\n",
    "    while i<a:\n",
    "        d=rslt[i+k][0]-rslt[i][0]\n",
    "        rslt[i][j]=rslt[i][j]+((rslt[i+1][j-1]-rslt[i][j-1])/d)\n",
    "        i+=1\n",
    "    a-=1\n",
    "    k+=1\n",
    "    j+=1\n",
    "print(f'The table with col1 as x and col2 and function \\n',rslt,'\\n')\n",
    "j=1\n",
    "sum=0\n",
    "while (j<len(x)+1):\n",
    "    partition=rslt[0][j]\n",
    "    i=0\n",
    "    while i<j-1:\n",
    "        partition = partition*(p-x[i])\n",
    "        i+=1\n",
    "    sum+=partition\n",
    "    j+=1\n",
    "print('The required polynomial is\\n',simplify(sum),'\\n')\n",
    "poly=smp.lambdify(p,sum)\n",
    "print(f'The value of polynomial at {z} is \\n',poly(z))\n",
    "ftime=dt.now()\n",
    "print(\"The cost of computation is \",ftime-itime)\n",
    "\n"
   ]
  },
  {
   "cell_type": "markdown",
   "metadata": {},
   "source": [
    "# forward interpolation"
   ]
  },
  {
   "cell_type": "code",
   "execution_count": 4,
   "metadata": {},
   "outputs": [
    {
     "name": "stdout",
     "output_type": "stream",
     "text": [
      "[0.0, 2.0, 4.0, 6.0, 8.0]\n",
      "[[ 12.  11.  11. -11.  11.]\n",
      " [ 23.  22.   0.   0.   0.]\n",
      " [ 45.  22.   0.   0.   0.]\n",
      " [ 67.  22.   0.   0.   0.]\n",
      " [ 89.   0.   0.   0.   0.]]\n",
      "2\n",
      "u \n",
      " 22.0*d + 23.0 \n",
      " 34.0000000000000\n",
      "The cost of computation is  0:00:10.485565\n"
     ]
    }
   ],
   "source": [
    "\n",
    "import numpy as np\n",
    "import sympy as smp\n",
    "from sympy import symbols,simplify,lambdify,factorial,Eq,solve\n",
    "d=symbols('d')\n",
    "r=int(input(\"number of points : \"))\n",
    "x=[]\n",
    "a=float(input(\"enter first absissa : \"))\n",
    "h=float(input(\"enter the difference: \"))\n",
    "q=float(input('enter the point where you want the poly value '))\n",
    "for i in range(r):\n",
    "        c=a+i*h\n",
    "        x.append(c)\n",
    "print(x)\n",
    "itime=dt.now()\n",
    "D=np.zeros((r,r))\n",
    "for i in range(r):\n",
    "        D[i][0]=float(input('enter the ordinate element : '))\n",
    "for j in range(1,r+1):\n",
    "        for i in range(0,r-j):\n",
    "                D[i][j]=D[i+1][j-1]-D[i][j-1]\n",
    "print(D)\n",
    "s=1\n",
    "m=0\n",
    "for i in range (r):\n",
    "        t=0\n",
    "        if q<=x[i]:\n",
    "                t=i\n",
    "                break\n",
    "print(t)\n",
    "u=symbols('u')\n",
    "eqq=Eq(x[t-1]+h*u,q)\n",
    "o=solve(eqq)\n",
    "for i in range(0,r):\n",
    "        c=1\n",
    "        for j in range(0,i):\n",
    "                c=c*(d-j)\n",
    "        m+=(c*D[t-1][i])/(factorial(i))\n",
    "n=smp.lambdify(d,m)\n",
    "print(u,'\\n',m,'\\n',n(o[0]))\n",
    "ftime=dt.now()\n",
    "print(\"The cost of computation is \",ftime-itime)\n",
    "\n"
   ]
  },
  {
   "cell_type": "markdown",
   "metadata": {},
   "source": [
    "# backward interpolation"
   ]
  },
  {
   "cell_type": "code",
   "execution_count": 5,
   "metadata": {},
   "outputs": [
    {
     "name": "stdout",
     "output_type": "stream",
     "text": [
      "[3.0, 5.0, 7.0, 9.0, 11.0, 13.0]\n",
      "[[ 23.   0.   0.   0.   0.   0.]\n",
      " [ 45.  22.   0.   0.   0.   0.]\n",
      " [ 67.  22.   0.   0.   0.   0.]\n",
      " [ 92.  25.   3.   3.   0.   0.]\n",
      " [105.  13. -12. -15. -18.   0.]\n",
      " [150.  45.  32.  44.  59.  77.]]\n",
      "22.0*d + 45.0 \n",
      " 45.0000000000000\n",
      "The cost of computation is  0:00:13.648539\n"
     ]
    }
   ],
   "source": [
    "\n",
    "\n",
    "import numpy as np\n",
    "import sympy as smp\n",
    "from sympy import symbols,simplify,lambdify,factorial,Eq,solve\n",
    "d=symbols('d')\n",
    "r=int(input(\"number of points : \"))\n",
    "q=float(input('enter the point where you want the poly value '))\n",
    "x=[]\n",
    "a=float(input(\"enter first absissa : \"))\n",
    "h=float(input(\"enter the difference: \"))\n",
    "for i in range(r):\n",
    "        c=a+i*h\n",
    "        x.append(c)\n",
    "print(x)\n",
    "itime=dt.now()\n",
    "D=np.zeros((r,r))\n",
    "for i in range(r):\n",
    "        D[i][0]=float(input('enter the ordinate element : '))\n",
    "for j in range(1,r+1):\n",
    "        for i in range(j,r):\n",
    "               D[i][j]=D[i][j-1]-D[i-1][j-1]\n",
    "print(D)\n",
    "s=1\n",
    "m=0\n",
    "for i in range (r):\n",
    "        t=0\n",
    "        if q<=x[i]:\n",
    "                t=i\n",
    "                break\n",
    "u=symbols('u')\n",
    "eqq=Eq(x[t]+h*u,q)\n",
    "o=solve(eqq)\n",
    "for i in range(0,r):\n",
    "        c=1\n",
    "        for j in range(0,i):\n",
    "                c=c*(d+j)\n",
    "        m+=(c*D[t][i])/(factorial(i))\n",
    "n=smp.lambdify(d,m)\n",
    "print(m,'\\n',n(o[0]))\n",
    "ftime=dt.now()\n",
    "print(\"The cost of computation is \",ftime-itime)\n"
   ]
  },
  {
   "cell_type": "code",
   "execution_count": null,
   "metadata": {},
   "outputs": [],
   "source": []
  }
 ],
 "metadata": {
  "kernelspec": {
   "display_name": "Python 3",
   "language": "python",
   "name": "python3"
  },
  "language_info": {
   "codemirror_mode": {
    "name": "ipython",
    "version": 3
   },
   "file_extension": ".py",
   "mimetype": "text/x-python",
   "name": "python",
   "nbconvert_exporter": "python",
   "pygments_lexer": "ipython3",
   "version": "3.12.4"
  }
 },
 "nbformat": 4,
 "nbformat_minor": 2
}
